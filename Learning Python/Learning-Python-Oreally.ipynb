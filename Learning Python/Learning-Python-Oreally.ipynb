{
  "cells": [
    {
      "metadata": {
        "collapsed": true
      },
      "cell_type": "markdown",
      "source": "# Learning Python \n### O'Reilly"
    },
    {
      "metadata": {},
      "cell_type": "markdown",
      "source": "### Lists"
    },
    {
      "metadata": {
        "trusted": true
      },
      "cell_type": "code",
      "source": "# creating list\nL = []\n\nL = list(range(-4,4)) # creating list with range()\nL",
      "execution_count": 1,
      "outputs": [
        {
          "output_type": "execute_result",
          "execution_count": 1,
          "data": {
            "text/plain": "[-4, -3, -2, -1, 0, 1, 2, 3]"
          },
          "metadata": {}
        }
      ]
    },
    {
      "metadata": {
        "trusted": true
      },
      "cell_type": "code",
      "source": "len (L) # length",
      "execution_count": 2,
      "outputs": [
        {
          "output_type": "execute_result",
          "execution_count": 2,
          "data": {
            "text/plain": "8"
          },
          "metadata": {}
        }
      ]
    },
    {
      "metadata": {
        "trusted": true
      },
      "cell_type": "code",
      "source": "# printing elements from list\nfor i in L: print (i)",
      "execution_count": 3,
      "outputs": [
        {
          "output_type": "stream",
          "text": "-4\n-3\n-2\n-1\n0\n1\n2\n3\n",
          "name": "stdout"
        }
      ]
    },
    {
      "metadata": {
        "trusted": true
      },
      "cell_type": "code",
      "source": "# adding to list\nprint(L)\nL.append(4)\nL",
      "execution_count": 4,
      "outputs": [
        {
          "output_type": "stream",
          "text": "[-4, -3, -2, -1, 0, 1, 2, 3]\n",
          "name": "stdout"
        },
        {
          "output_type": "execute_result",
          "execution_count": 4,
          "data": {
            "text/plain": "[-4, -3, -2, -1, 0, 1, 2, 3, 4]"
          },
          "metadata": {}
        }
      ]
    },
    {
      "metadata": {
        "trusted": true
      },
      "cell_type": "code",
      "source": "L.insert(1,'X') # list.insert (index, item) - insert item to list in position \nL",
      "execution_count": 5,
      "outputs": [
        {
          "output_type": "execute_result",
          "execution_count": 5,
          "data": {
            "text/plain": "[-4, 'X', -3, -2, -1, 0, 1, 2, 3, 4]"
          },
          "metadata": {}
        }
      ]
    },
    {
      "metadata": {
        "trusted": true
      },
      "cell_type": "code",
      "source": "L.index(1) # checking index of item",
      "execution_count": 6,
      "outputs": [
        {
          "output_type": "execute_result",
          "execution_count": 6,
          "data": {
            "text/plain": "6"
          },
          "metadata": {}
        }
      ]
    },
    {
      "metadata": {
        "trusted": true
      },
      "cell_type": "code",
      "source": "L.count(4) # counting items in list",
      "execution_count": 7,
      "outputs": [
        {
          "output_type": "execute_result",
          "execution_count": 7,
          "data": {
            "text/plain": "1"
          },
          "metadata": {}
        }
      ]
    },
    {
      "metadata": {
        "trusted": true
      },
      "cell_type": "code",
      "source": "del (L[1])\nL",
      "execution_count": 8,
      "outputs": [
        {
          "output_type": "execute_result",
          "execution_count": 8,
          "data": {
            "text/plain": "[-4, -3, -2, -1, 0, 1, 2, 3, 4]"
          },
          "metadata": {}
        }
      ]
    },
    {
      "metadata": {
        "trusted": true
      },
      "cell_type": "code",
      "source": "L.sort()\nL",
      "execution_count": 10,
      "outputs": [
        {
          "output_type": "execute_result",
          "execution_count": 10,
          "data": {
            "text/plain": "[-4, -3, -2, -1, 0, 1, 2, 3, 4]"
          },
          "metadata": {}
        }
      ]
    },
    {
      "metadata": {
        "trusted": true
      },
      "cell_type": "code",
      "source": "# list comprehension\nL = [x**2 for x in range(-4,4)]\nL",
      "execution_count": 13,
      "outputs": [
        {
          "output_type": "execute_result",
          "execution_count": 13,
          "data": {
            "text/plain": "[16, 9, 4, 1, 0, 1, 4, 9]"
          },
          "metadata": {}
        }
      ]
    },
    {
      "metadata": {
        "trusted": true
      },
      "cell_type": "code",
      "source": "B = list('347') # create list from string\nB",
      "execution_count": 16,
      "outputs": [
        {
          "output_type": "execute_result",
          "execution_count": 16,
          "data": {
            "text/plain": "['3', '4', '7']"
          },
          "metadata": {}
        }
      ]
    },
    {
      "metadata": {
        "trusted": true
      },
      "cell_type": "code",
      "source": "print (L)\n3 in L # check is item in list",
      "execution_count": 17,
      "outputs": [
        {
          "output_type": "stream",
          "text": "[16, 9, 4, 1, 0, 1, 4, 9]\n",
          "name": "stdout"
        },
        {
          "output_type": "execute_result",
          "execution_count": 17,
          "data": {
            "text/plain": "False"
          },
          "metadata": {}
        }
      ]
    },
    {
      "metadata": {
        "trusted": true
      },
      "cell_type": "code",
      "source": "# list comprehension\nres = [i * 4 for i in 'sowa']\nres",
      "execution_count": 19,
      "outputs": [
        {
          "output_type": "execute_result",
          "execution_count": 19,
          "data": {
            "text/plain": "['ssss', 'oooo', 'wwww', 'aaaa']"
          },
          "metadata": {}
        }
      ]
    },
    {
      "metadata": {
        "trusted": true
      },
      "cell_type": "code",
      "source": "# map function works on all item in list applayin function and creates new list\nL = list(range(-4,4))\nprint(L)\nres = list(map(abs,L)) # map function across sequence\nres",
      "execution_count": 22,
      "outputs": [
        {
          "output_type": "stream",
          "text": "[-4, -3, -2, -1, 0, 1, 2, 3]\n",
          "name": "stdout"
        },
        {
          "output_type": "execute_result",
          "execution_count": 22,
          "data": {
            "text/plain": "[4, 3, 2, 1, 0, 1, 2, 3]"
          },
          "metadata": {}
        }
      ]
    },
    {
      "metadata": {
        "trusted": true
      },
      "cell_type": "code",
      "source": "#matrix - nested list or list of lists\nmatrix = [[1,2,3], [4,5,6],[7,8,9]]\n\nprint (matrix[1])\nprint (matrix[0][0])\nprint (matrix[1][0])\nprint (matrix[2][1])",
      "execution_count": 27,
      "outputs": [
        {
          "output_type": "stream",
          "text": "[4, 5, 6]\n1\n4\n8\n",
          "name": "stdout"
        }
      ]
    },
    {
      "metadata": {
        "trusted": true
      },
      "cell_type": "code",
      "source": "# changing items in lists\nmatrix[2][2] = 99\nmatrix\nmatrix [0][:2] = 91,92\nmatrix\n",
      "execution_count": 30,
      "outputs": [
        {
          "output_type": "execute_result",
          "execution_count": 30,
          "data": {
            "text/plain": "[[91, 92, 3], [4, 5, 6], [7, 8, 99]]"
          },
          "metadata": {}
        }
      ]
    },
    {
      "metadata": {
        "trusted": true
      },
      "cell_type": "code",
      "source": "# adding item to list list.append()\nL = ['aBc', 'abc', 'ABC']\nL.append('XYZ')\nL",
      "execution_count": 34,
      "outputs": [
        {
          "output_type": "execute_result",
          "execution_count": 34,
          "data": {
            "text/plain": "['aBc', 'abc', 'ABC', 'XYZ']"
          },
          "metadata": {}
        }
      ]
    },
    {
      "metadata": {
        "trusted": true
      },
      "cell_type": "code",
      "source": "# sorting a list \nL.sort()\nprint (L)\n\nL.sort(key = str.lower)\nprint(L)\n\nL.sort(key=str.lower, reverse = True)\nprint(L)",
      "execution_count": 38,
      "outputs": [
        {
          "output_type": "stream",
          "text": "['ABC', 'XYZ', 'aBc', 'abc']\n['ABC', 'aBc', 'abc', 'XYZ']\n['XYZ', 'ABC', 'aBc', 'abc']\n",
          "name": "stdout"
        }
      ]
    },
    {
      "metadata": {
        "trusted": true
      },
      "cell_type": "code",
      "source": "",
      "execution_count": 39,
      "outputs": [
        {
          "output_type": "stream",
          "text": "['XYZ', 'ABC', 'aBc', 'abc']\n",
          "name": "stdout"
        }
      ]
    },
    {
      "metadata": {
        "trusted": true
      },
      "cell_type": "code",
      "source": "\n\n\n\n",
      "execution_count": null,
      "outputs": []
    },
    {
      "metadata": {
        "trusted": true
      },
      "cell_type": "code",
      "source": "",
      "execution_count": null,
      "outputs": []
    },
    {
      "metadata": {
        "trusted": true
      },
      "cell_type": "code",
      "source": "",
      "execution_count": null,
      "outputs": []
    },
    {
      "metadata": {
        "trusted": true
      },
      "cell_type": "code",
      "source": "",
      "execution_count": null,
      "outputs": []
    },
    {
      "metadata": {
        "trusted": true
      },
      "cell_type": "code",
      "source": "",
      "execution_count": null,
      "outputs": []
    },
    {
      "metadata": {},
      "cell_type": "markdown",
      "source": "# EXERCISES"
    },
    {
      "metadata": {},
      "cell_type": "markdown",
      "source": "https://www.w3resource.com/python-exercises/list/\n"
    },
    {
      "metadata": {
        "trusted": true
      },
      "cell_type": "code",
      "source": " # 1. Write a Python program to sum all the items in a list\nL = list(range(4,17))\nprint(L)\nres = 0\nfor i in L:\n    res = res + i \n    \nprint(res)    \n  ",
      "execution_count": 2,
      "outputs": [
        {
          "output_type": "stream",
          "text": "[4, 5, 6, 7, 8, 9, 10, 11, 12, 13, 14, 15, 16]\n130\n",
          "name": "stdout"
        }
      ]
    },
    {
      "metadata": {
        "trusted": true
      },
      "cell_type": "code",
      "source": "# 2. Write a Python program to multiplies all the items in a list.\nprint (L)\nres = 1\nfor i in L: \n    res = res*i\n\nprint(res)",
      "execution_count": 3,
      "outputs": [
        {
          "output_type": "stream",
          "text": "[4, 5, 6, 7, 8, 9, 10, 11, 12, 13, 14, 15, 16]\n3487131648000\n",
          "name": "stdout"
        }
      ]
    },
    {
      "metadata": {
        "trusted": true
      },
      "cell_type": "code",
      "source": "# 3. Write a Python program to get the largest number from a list\nprint(L)\nval = max(L) # works only for int and float\nprint(val)",
      "execution_count": 4,
      "outputs": [
        {
          "output_type": "stream",
          "text": "[4, 5, 6, 7, 8, 9, 10, 11, 12, 13, 14, 15, 16]\n16\n",
          "name": "stdout"
        }
      ]
    },
    {
      "metadata": {
        "trusted": true,
        "scrolled": true
      },
      "cell_type": "code",
      "source": "L = [5,7,99,14,16,234,1,23,43]\n\nbig = 0\nfor i in L:\n    if i > big:\n        big = i\n        \n            \nprint (big)",
      "execution_count": 11,
      "outputs": [
        {
          "output_type": "stream",
          "text": "234\n",
          "name": "stdout"
        }
      ]
    },
    {
      "metadata": {
        "trusted": true
      },
      "cell_type": "code",
      "source": "# 4. Write a Python program to get the smallest number from a list.\nminimum = min(L)\nprint(minimum)",
      "execution_count": 12,
      "outputs": [
        {
          "output_type": "stream",
          "text": "1\n",
          "name": "stdout"
        }
      ]
    },
    {
      "metadata": {
        "trusted": true
      },
      "cell_type": "code",
      "source": "List1 = [5,7,99,14, -17,16,234,1,23,43, -4]\ndef minimum(L):\n    small = L[0]\n    for i in L:\n        if i < small:\n            small = i\n    return small\n\nminimum(List1)",
      "execution_count": 45,
      "outputs": [
        {
          "output_type": "execute_result",
          "execution_count": 45,
          "data": {
            "text/plain": "-17"
          },
          "metadata": {}
        }
      ]
    },
    {
      "metadata": {
        "trusted": true
      },
      "cell_type": "code",
      "source": "# 5. Write a Python program to count the number of strings where the string length is 2 or more and the first \n# and last character are same from a given list of strings. \n# Sample List : ['abc', 'xyz', 'aba', '1221']\n# Expected Result : 2\n\nList1 = ['abc', 'xyz', 'aba', '1221']\n\ndef count_number(L):\n    counter = 0\n    for i in L:\n        if len(i) >= 2 and i[0] == i[-1]:\n            counter += 1\n\n    return counter\n\ncount_number(List1)\n    \n    ",
      "execution_count": 31,
      "outputs": [
        {
          "output_type": "execute_result",
          "execution_count": 31,
          "data": {
            "text/plain": "2"
          },
          "metadata": {}
        }
      ]
    },
    {
      "metadata": {
        "trusted": true
      },
      "cell_type": "code",
      "source": "# 6. Write a Python program to get a list, sorted in increasing order by the last element in each tuple from a given \n# list of non-empty tuples. \n# Sample List : [(2, 5), (1, 2), (4, 4), (2, 3), (2, 1)]\n# Expected Result : [(2, 1), (1, 2), (2, 3), (4, 4), (2, 5)]\n\nList1 = [(2, 5), (1, 2), (4, 4), (2, 3), (2, 1)]\nList2 = [4,7,13,3,5,1,45]\ndef sort_list(L):\n    i = 0\n    store = L[i]\n    holder = []\n    for i in L:\n            if i < store:\n                holder.append(i)\n                # store = i\n                \n                \n    return store, holder\n\nsort_list(List2)\n",
      "execution_count": 52,
      "outputs": [
        {
          "output_type": "execute_result",
          "execution_count": 52,
          "data": {
            "text/plain": "(4, [3, 1])"
          },
          "metadata": {}
        }
      ]
    },
    {
      "metadata": {
        "trusted": true
      },
      "cell_type": "code",
      "source": "",
      "execution_count": null,
      "outputs": []
    }
  ],
  "metadata": {
    "kernelspec": {
      "name": "python36",
      "display_name": "Python 3.6",
      "language": "python"
    }
  },
  "nbformat": 4,
  "nbformat_minor": 2
}