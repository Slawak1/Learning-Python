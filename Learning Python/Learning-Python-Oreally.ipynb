{
  "cells": [
    {
      "metadata": {
        "collapsed": true
      },
      "cell_type": "markdown",
      "source": "# Learning Python \n### O'Reilly"
    },
    {
      "metadata": {},
      "cell_type": "markdown",
      "source": "### Lists"
    },
    {
      "metadata": {
        "trusted": true
      },
      "cell_type": "code",
      "source": "# creating list\nL = []\n\nL = list(range(-4,4)) # creating list with range()\nL",
      "execution_count": 1,
      "outputs": [
        {
          "output_type": "execute_result",
          "execution_count": 1,
          "data": {
            "text/plain": "[-4, -3, -2, -1, 0, 1, 2, 3]"
          },
          "metadata": {}
        }
      ]
    },
    {
      "metadata": {
        "trusted": true
      },
      "cell_type": "code",
      "source": "len (L) # length",
      "execution_count": 2,
      "outputs": [
        {
          "output_type": "execute_result",
          "execution_count": 2,
          "data": {
            "text/plain": "8"
          },
          "metadata": {}
        }
      ]
    },
    {
      "metadata": {
        "trusted": true
      },
      "cell_type": "code",
      "source": "# printing elements from list\nfor i in L: print (i)",
      "execution_count": 3,
      "outputs": [
        {
          "output_type": "stream",
          "text": "-4\n-3\n-2\n-1\n0\n1\n2\n3\n",
          "name": "stdout"
        }
      ]
    },
    {
      "metadata": {
        "trusted": true
      },
      "cell_type": "code",
      "source": "# adding to list\nprint(L)\nL.append(4)\nL",
      "execution_count": 4,
      "outputs": [
        {
          "output_type": "stream",
          "text": "[-4, -3, -2, -1, 0, 1, 2, 3]\n",
          "name": "stdout"
        },
        {
          "output_type": "execute_result",
          "execution_count": 4,
          "data": {
            "text/plain": "[-4, -3, -2, -1, 0, 1, 2, 3, 4]"
          },
          "metadata": {}
        }
      ]
    },
    {
      "metadata": {
        "trusted": true
      },
      "cell_type": "code",
      "source": "L.insert(1,'X') # list.insert (index, item) - insert item to list in position \nL",
      "execution_count": 5,
      "outputs": [
        {
          "output_type": "execute_result",
          "execution_count": 5,
          "data": {
            "text/plain": "[-4, 'X', -3, -2, -1, 0, 1, 2, 3, 4]"
          },
          "metadata": {}
        }
      ]
    },
    {
      "metadata": {
        "trusted": true
      },
      "cell_type": "code",
      "source": "L.index(1) # checking index of item",
      "execution_count": 6,
      "outputs": [
        {
          "output_type": "execute_result",
          "execution_count": 6,
          "data": {
            "text/plain": "6"
          },
          "metadata": {}
        }
      ]
    },
    {
      "metadata": {
        "trusted": true
      },
      "cell_type": "code",
      "source": "L.count(4) # counting items in list",
      "execution_count": 7,
      "outputs": [
        {
          "output_type": "execute_result",
          "execution_count": 7,
          "data": {
            "text/plain": "1"
          },
          "metadata": {}
        }
      ]
    },
    {
      "metadata": {
        "trusted": true
      },
      "cell_type": "code",
      "source": "del (L[1])\nL",
      "execution_count": 8,
      "outputs": [
        {
          "output_type": "execute_result",
          "execution_count": 8,
          "data": {
            "text/plain": "[-4, -3, -2, -1, 0, 1, 2, 3, 4]"
          },
          "metadata": {}
        }
      ]
    },
    {
      "metadata": {
        "trusted": true
      },
      "cell_type": "code",
      "source": "L.sort()\nL",
      "execution_count": 9,
      "outputs": [
        {
          "output_type": "execute_result",
          "execution_count": 9,
          "data": {
            "text/plain": "[-4, -3, -2, -1, 0, 1, 2, 3, 4]"
          },
          "metadata": {}
        }
      ]
    },
    {
      "metadata": {
        "trusted": true
      },
      "cell_type": "code",
      "source": "# list comprehension\nL = [x**2 for x in range(-4,4)]\nL",
      "execution_count": 10,
      "outputs": [
        {
          "output_type": "execute_result",
          "execution_count": 10,
          "data": {
            "text/plain": "[16, 9, 4, 1, 0, 1, 4, 9]"
          },
          "metadata": {}
        }
      ]
    },
    {
      "metadata": {
        "trusted": true
      },
      "cell_type": "code",
      "source": "B = list('347') # create list from string\nB",
      "execution_count": 11,
      "outputs": [
        {
          "output_type": "execute_result",
          "execution_count": 11,
          "data": {
            "text/plain": "['3', '4', '7']"
          },
          "metadata": {}
        }
      ]
    },
    {
      "metadata": {
        "trusted": true
      },
      "cell_type": "code",
      "source": "print (L)\n3 in L # check is item in list",
      "execution_count": 12,
      "outputs": [
        {
          "output_type": "stream",
          "text": "[16, 9, 4, 1, 0, 1, 4, 9]\n",
          "name": "stdout"
        },
        {
          "output_type": "execute_result",
          "execution_count": 12,
          "data": {
            "text/plain": "False"
          },
          "metadata": {}
        }
      ]
    },
    {
      "metadata": {
        "trusted": true
      },
      "cell_type": "code",
      "source": "# list comprehension\nres = [i * 4 for i in 'sowa']\nres",
      "execution_count": 13,
      "outputs": [
        {
          "output_type": "execute_result",
          "execution_count": 13,
          "data": {
            "text/plain": "['ssss', 'oooo', 'wwww', 'aaaa']"
          },
          "metadata": {}
        }
      ]
    },
    {
      "metadata": {
        "trusted": true
      },
      "cell_type": "code",
      "source": "# map function works on all item in list applayin function and creates new list\nL = list(range(-4,4))\nprint(L)\nres = list(map(abs,L)) # map function across sequence\nres",
      "execution_count": 14,
      "outputs": [
        {
          "output_type": "stream",
          "text": "[-4, -3, -2, -1, 0, 1, 2, 3]\n",
          "name": "stdout"
        },
        {
          "output_type": "execute_result",
          "execution_count": 14,
          "data": {
            "text/plain": "[4, 3, 2, 1, 0, 1, 2, 3]"
          },
          "metadata": {}
        }
      ]
    },
    {
      "metadata": {
        "trusted": true
      },
      "cell_type": "code",
      "source": "#matrix - nested list or list of lists\nmatrix = [[1,2,3], [4,5,6],[7,8,9]]\n\nprint (matrix[1])\nprint (matrix[0][0])\nprint (matrix[1][0])\nprint (matrix[2][1])",
      "execution_count": 15,
      "outputs": [
        {
          "output_type": "stream",
          "text": "[4, 5, 6]\n1\n4\n8\n",
          "name": "stdout"
        }
      ]
    },
    {
      "metadata": {
        "trusted": true
      },
      "cell_type": "code",
      "source": "# changing items in lists\nmatrix[2][2] = 99\nmatrix\nmatrix [0][:2] = 91,92\nmatrix\n",
      "execution_count": 16,
      "outputs": [
        {
          "output_type": "execute_result",
          "execution_count": 16,
          "data": {
            "text/plain": "[[91, 92, 3], [4, 5, 6], [7, 8, 99]]"
          },
          "metadata": {}
        }
      ]
    },
    {
      "metadata": {
        "trusted": true
      },
      "cell_type": "code",
      "source": "# adding item to list list.append()\nL = ['aBc', 'abc', 'ABC']\nL.append('XYZ')\nL",
      "execution_count": 17,
      "outputs": [
        {
          "output_type": "execute_result",
          "execution_count": 17,
          "data": {
            "text/plain": "['aBc', 'abc', 'ABC', 'XYZ']"
          },
          "metadata": {}
        }
      ]
    },
    {
      "metadata": {
        "trusted": true
      },
      "cell_type": "code",
      "source": "# sorting a list \nL.sort()\nprint (L)\n\nL.sort(key = str.lower)\nprint(L)\n\nL.sort(key=str.lower, reverse = True)\nprint(L)",
      "execution_count": 18,
      "outputs": [
        {
          "output_type": "stream",
          "text": "['ABC', 'XYZ', 'aBc', 'abc']\n['ABC', 'aBc', 'abc', 'XYZ']\n['XYZ', 'ABC', 'aBc', 'abc']\n",
          "name": "stdout"
        }
      ]
    },
    {
      "metadata": {
        "trusted": true
      },
      "cell_type": "code",
      "source": "# List Comprehension\nM = [[1,2,3], [4,5,6], [7,8,9]]\n\n# we can get columny by:\ncol2 = [row[2] for row in M] # List comprehensions are coded in square brackets, to tip fact that they make a list\ncol2",
      "execution_count": 19,
      "outputs": [
        {
          "output_type": "execute_result",
          "execution_count": 19,
          "data": {
            "text/plain": "[3, 6, 9]"
          },
          "metadata": {}
        }
      ]
    },
    {
      "metadata": {
        "trusted": true
      },
      "cell_type": "code",
      "source": "# Add 1 to each item in column 2\n\nadd_col = [row[2] + 1 for row in M]\nadd_col\n",
      "execution_count": 20,
      "outputs": [
        {
          "output_type": "execute_result",
          "execution_count": 20,
          "data": {
            "text/plain": "[4, 7, 10]"
          },
          "metadata": {}
        }
      ]
    },
    {
      "metadata": {
        "trusted": true
      },
      "cell_type": "code",
      "source": "# Filter out odd items\n\nfilter_col = [row[0] for row in M if row[0] % 2 == 0]\nfilter_col",
      "execution_count": 21,
      "outputs": [
        {
          "output_type": "execute_result",
          "execution_count": 21,
          "data": {
            "text/plain": "[4]"
          },
          "metadata": {}
        }
      ]
    },
    {
      "metadata": {
        "trusted": true
      },
      "cell_type": "code",
      "source": "# print diagonal from matrix\ndiag = [M[i][i] for i in [0,1,2]]\ndiag",
      "execution_count": 22,
      "outputs": [
        {
          "output_type": "execute_result",
          "execution_count": 22,
          "data": {
            "text/plain": "[1, 5, 9]"
          },
          "metadata": {}
        }
      ]
    },
    {
      "metadata": {
        "trusted": true
      },
      "cell_type": "code",
      "source": "# More List comprehensions \nnum = [1,2,3,4,5,6,7,8,9,10,11]\n\n# i want to get n for each n in num list - this is by using for loop\n\n# my_list = []\n# for n in num:\n#     my_list.append (n)\n\nmy_list = [n for n in num] # this is by using comprehension method\nprint (my_list)",
      "execution_count": 23,
      "outputs": [
        {
          "output_type": "stream",
          "text": "[1, 2, 3, 4, 5, 6, 7, 8, 9, 10, 11]\n",
          "name": "stdout"
        }
      ]
    },
    {
      "metadata": {
        "trusted": true
      },
      "cell_type": "code",
      "source": "# i want to get n*n for each n in num list\n\n# my_list = []\n# for n in num:\n#     my_list.append (n*n)\n\nmy_list = [n*n for n in num]\n    \nprint (my_list)",
      "execution_count": 24,
      "outputs": [
        {
          "output_type": "stream",
          "text": "[1, 4, 9, 16, 25, 36, 49, 64, 81, 100, 121]\n",
          "name": "stdout"
        }
      ]
    },
    {
      "metadata": {
        "trusted": true
      },
      "cell_type": "code",
      "source": "# I want n for each n in num if n is even\n\n# my_list = []\n# for n in num:\n#     if n % 2 == 0:\n#         my_list.append(n)\n\nmy_list = [n for n in num if n%2 == 0]\n    \nprint(my_list)",
      "execution_count": 25,
      "outputs": [
        {
          "output_type": "stream",
          "text": "[2, 4, 6, 8, 10]\n",
          "name": "stdout"
        }
      ]
    },
    {
      "metadata": {
        "trusted": true
      },
      "cell_type": "code",
      "source": "# I want a (letter, number) pair for each abcd and 0123\n# my_list = []\n# for i in 'abcd':\n#     for j in range(4):\n#         my_list.append([i,j])\n\nmy_list = [(i,j) for i in 'abcd' for j in range(4) ]        # we don't use comas in comprehension list \n\nprint(my_list)",
      "execution_count": 26,
      "outputs": [
        {
          "output_type": "stream",
          "text": "[('a', 0), ('a', 1), ('a', 2), ('a', 3), ('b', 0), ('b', 1), ('b', 2), ('b', 3), ('c', 0), ('c', 1), ('c', 2), ('c', 3), ('d', 0), ('d', 1), ('d', 2), ('d', 3)]\n",
          "name": "stdout"
        }
      ]
    },
    {
      "metadata": {
        "trusted": true
      },
      "cell_type": "code",
      "source": "# comrehensions works also with dictionares \n\nnames = ['Bruce', 'Clark', 'Peter', 'Logan', 'Wade']\nheros = ['Batman', 'Superman', 'Spiderman', 'Wolverine', 'Deadpool']\n\na = zip(names, heros)\na",
      "execution_count": 27,
      "outputs": [
        {
          "output_type": "execute_result",
          "execution_count": 27,
          "data": {
            "text/plain": "<zip at 0x7fce8b512108>"
          },
          "metadata": {}
        }
      ]
    },
    {
      "metadata": {
        "trusted": true
      },
      "cell_type": "code",
      "source": "",
      "execution_count": null,
      "outputs": []
    },
    {
      "metadata": {
        "trusted": true
      },
      "cell_type": "code",
      "source": "",
      "execution_count": null,
      "outputs": []
    },
    {
      "metadata": {
        "trusted": true
      },
      "cell_type": "code",
      "source": "",
      "execution_count": null,
      "outputs": []
    },
    {
      "metadata": {
        "trusted": true
      },
      "cell_type": "code",
      "source": "",
      "execution_count": null,
      "outputs": []
    },
    {
      "metadata": {},
      "cell_type": "markdown",
      "source": "# EXERCISES"
    },
    {
      "metadata": {},
      "cell_type": "markdown",
      "source": "https://www.w3resource.com/python-exercises/list/\n"
    },
    {
      "metadata": {
        "trusted": true
      },
      "cell_type": "code",
      "source": " # 1. Write a Python program to sum all the items in a list\nL = list(range(4,17))\nprint(L)\nres = 0\nfor i in L:\n    res = res + i \n    \nprint(res)    \n  ",
      "execution_count": 28,
      "outputs": [
        {
          "output_type": "stream",
          "text": "[4, 5, 6, 7, 8, 9, 10, 11, 12, 13, 14, 15, 16]\n130\n",
          "name": "stdout"
        }
      ]
    },
    {
      "metadata": {
        "trusted": true
      },
      "cell_type": "code",
      "source": "# 2. Write a Python program to multiplies all the items in a list.\nprint (L)\nres = 1\nfor i in L: \n    res = res*i\n\nprint(res)",
      "execution_count": 29,
      "outputs": [
        {
          "output_type": "stream",
          "text": "[4, 5, 6, 7, 8, 9, 10, 11, 12, 13, 14, 15, 16]\n3487131648000\n",
          "name": "stdout"
        }
      ]
    },
    {
      "metadata": {
        "trusted": true
      },
      "cell_type": "code",
      "source": "# 3. Write a Python program to get the largest number from a list\nprint(L)\nval = max(L) # works only for int and float\nprint(val)",
      "execution_count": 30,
      "outputs": [
        {
          "output_type": "stream",
          "text": "[4, 5, 6, 7, 8, 9, 10, 11, 12, 13, 14, 15, 16]\n16\n",
          "name": "stdout"
        }
      ]
    },
    {
      "metadata": {
        "trusted": true,
        "scrolled": true
      },
      "cell_type": "code",
      "source": "L = [5,7,99,14,16,234,1,23,43]\n\nbig = 0\nfor i in L:\n    if i > big:\n        big = i\n        \n            \nprint (big)",
      "execution_count": 31,
      "outputs": [
        {
          "output_type": "stream",
          "text": "234\n",
          "name": "stdout"
        }
      ]
    },
    {
      "metadata": {
        "trusted": true
      },
      "cell_type": "code",
      "source": "# 4. Write a Python program to get the smallest number from a list.\nminimum = min(L)\nprint(minimum)",
      "execution_count": 32,
      "outputs": [
        {
          "output_type": "stream",
          "text": "1\n",
          "name": "stdout"
        }
      ]
    },
    {
      "metadata": {
        "trusted": true
      },
      "cell_type": "code",
      "source": "List1 = [5,7,99,14, -17,16,234,1,23,43, -4]\ndef minimum(L):\n    small = L[0]\n    for i in L:\n        if i < small:\n            small = i\n    return small\n\nminimum(List1)",
      "execution_count": 33,
      "outputs": [
        {
          "output_type": "execute_result",
          "execution_count": 33,
          "data": {
            "text/plain": "-17"
          },
          "metadata": {}
        }
      ]
    },
    {
      "metadata": {
        "trusted": true
      },
      "cell_type": "code",
      "source": "# 5. Write a Python program to count the number of strings where the string length is 2 or more and the first \n# and last character are same from a given list of strings. \n# Sample List : ['abc', 'xyz', 'aba', '1221']\n# Expected Result : 2\n\nList1 = ['abc', 'xyz', 'aba', '1221']\n\ndef count_number(L):\n    counter = 0\n    for i in L:\n        if len(i) >= 2 and i[0] == i[-1]:\n            counter += 1\n\n    return counter\n\ncount_number(List1)\n    \n    ",
      "execution_count": 34,
      "outputs": [
        {
          "output_type": "execute_result",
          "execution_count": 34,
          "data": {
            "text/plain": "2"
          },
          "metadata": {}
        }
      ]
    },
    {
      "metadata": {
        "trusted": true
      },
      "cell_type": "code",
      "source": "# 6. Write a Python program to get a list, sorted in increasing order by the last element in each tuple from a given \n# list of non-empty tuples. \n# Sample List : [(2, 5), (1, 2), (4, 4), (2, 3), (2, 1)]\n# Expected Result : [(2, 1), (1, 2), (2, 3), (4, 4), (2, 5)]\n\nList1 = [(2, 5), (1, 2), (4, 4), (2, 3), (2, 1)]\n# List2 = [4,7,13,3,5,1,45]\n\ndef last(n):\n    return n[-1]\n\n\nx = sorted(List1, key = last)\nx",
      "execution_count": 40,
      "outputs": [
        {
          "output_type": "execute_result",
          "execution_count": 40,
          "data": {
            "text/plain": "[(2, 1), (1, 2), (2, 3), (4, 4), (2, 5)]"
          },
          "metadata": {}
        }
      ]
    },
    {
      "metadata": {
        "trusted": true
      },
      "cell_type": "code",
      "source": "# Answer to exercise\n# def last(n): return n[-1]\n\n# def sort_list_last(tuples):\n#     return sorted(tuples, key=last)\n\n# print(sort_list_last([(2, 5), (1, 2), (4, 4), (2, 3), (2, 1)]))",
      "execution_count": 37,
      "outputs": [
        {
          "output_type": "stream",
          "text": "[(2, 1), (1, 2), (2, 3), (4, 4), (2, 5)]\n",
          "name": "stdout"
        }
      ]
    },
    {
      "metadata": {
        "trusted": true
      },
      "cell_type": "code",
      "source": "",
      "execution_count": null,
      "outputs": []
    }
  ],
  "metadata": {
    "kernelspec": {
      "name": "python36",
      "display_name": "Python 3.6",
      "language": "python"
    },
    "language_info": {
      "mimetype": "text/x-python",
      "nbconvert_exporter": "python",
      "name": "python",
      "pygments_lexer": "ipython3",
      "version": "3.6.6",
      "file_extension": ".py",
      "codemirror_mode": {
        "version": 3,
        "name": "ipython"
      }
    }
  },
  "nbformat": 4,
  "nbformat_minor": 2
}